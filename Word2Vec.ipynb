{
  "nbformat": 4,
  "nbformat_minor": 0,
  "metadata": {
    "colab": {
      "provenance": []
    },
    "kernelspec": {
      "name": "python3",
      "display_name": "Python 3"
    },
    "language_info": {
      "name": "python"
    }
  },
  "cells": [
    {
      "cell_type": "markdown",
      "source": [
        "#Load the requirments"
      ],
      "metadata": {
        "id": "4oxgJOlqwpjR"
      }
    },
    {
      "cell_type": "code",
      "execution_count": 2,
      "metadata": {
        "colab": {
          "base_uri": "https://localhost:8080/"
        },
        "id": "tdcbCWZWbuol",
        "outputId": "a2efc19c-aadd-4bf7-dc38-88c5a71ad35f"
      },
      "outputs": [
        {
          "output_type": "stream",
          "name": "stdout",
          "text": [
            "\u001b[33mWARNING: Ignoring invalid distribution ~cipy (/usr/local/lib/python3.11/dist-packages)\u001b[0m\u001b[33m\n",
            "\u001b[0m\u001b[33mWARNING: Ignoring invalid distribution ~cipy (/usr/local/lib/python3.11/dist-packages)\u001b[0m\u001b[33m\n",
            "\u001b[0mRequirement already satisfied: numpy==1.23.5 in /usr/local/lib/python3.11/dist-packages (1.23.5)\n",
            "\u001b[33mWARNING: Ignoring invalid distribution ~cipy (/usr/local/lib/python3.11/dist-packages)\u001b[0m\u001b[33m\n",
            "\u001b[0m\u001b[33mWARNING: Ignoring invalid distribution ~cipy (/usr/local/lib/python3.11/dist-packages)\u001b[0m\u001b[33m\n",
            "\u001b[0m\u001b[33mWARNING: Ignoring invalid distribution ~cipy (/usr/local/lib/python3.11/dist-packages)\u001b[0m\u001b[33m\n",
            "\u001b[0mCollecting gensim\n",
            "  Using cached gensim-4.3.3-cp311-cp311-manylinux_2_17_x86_64.manylinux2014_x86_64.whl.metadata (8.1 kB)\n",
            "Requirement already satisfied: numpy<2.0,>=1.18.5 in /usr/local/lib/python3.11/dist-packages (from gensim) (1.23.5)\n",
            "Collecting scipy<1.14.0,>=1.7.0 (from gensim)\n",
            "  Using cached scipy-1.13.1-cp311-cp311-manylinux_2_17_x86_64.manylinux2014_x86_64.whl.metadata (60 kB)\n",
            "Requirement already satisfied: smart-open>=1.8.1 in /usr/local/lib/python3.11/dist-packages (from gensim) (7.1.0)\n",
            "Requirement already satisfied: wrapt in /usr/local/lib/python3.11/dist-packages (from smart-open>=1.8.1->gensim) (1.17.2)\n",
            "Using cached gensim-4.3.3-cp311-cp311-manylinux_2_17_x86_64.manylinux2014_x86_64.whl (26.7 MB)\n",
            "Using cached scipy-1.13.1-cp311-cp311-manylinux_2_17_x86_64.manylinux2014_x86_64.whl (38.6 MB)\n",
            "\u001b[33mWARNING: Ignoring invalid distribution ~cipy (/usr/local/lib/python3.11/dist-packages)\u001b[0m\u001b[33m\n",
            "\u001b[0mInstalling collected packages: scipy, gensim\n",
            "\u001b[31mERROR: pip's dependency resolver does not currently take into account all the packages that are installed. This behaviour is the source of the following dependency conflicts.\n",
            "imbalanced-learn 0.13.0 requires numpy<3,>=1.24.3, but you have numpy 1.23.5 which is incompatible.\n",
            "scikit-image 0.25.2 requires numpy>=1.24, but you have numpy 1.23.5 which is incompatible.\n",
            "pymc 5.22.0 requires numpy>=1.25.0, but you have numpy 1.23.5 which is incompatible.\n",
            "albumentations 2.0.6 requires numpy>=1.24.4, but you have numpy 1.23.5 which is incompatible.\n",
            "jax 0.5.2 requires numpy>=1.25, but you have numpy 1.23.5 which is incompatible.\n",
            "jaxlib 0.5.1 requires numpy>=1.25, but you have numpy 1.23.5 which is incompatible.\n",
            "chex 0.1.89 requires numpy>=1.24.1, but you have numpy 1.23.5 which is incompatible.\u001b[0m\u001b[31m\n",
            "\u001b[0mSuccessfully installed gensim-4.3.3 scipy-1.13.1\n",
            "Collecting glove-py\n",
            "  Downloading glove_py-0.2.3.tar.gz (19 kB)\n",
            "  Preparing metadata (setup.py) ... \u001b[?25l\u001b[?25hdone\n",
            "Collecting pybind11>=2.2 (from glove-py)\n",
            "  Using cached pybind11-2.13.6-py3-none-any.whl.metadata (9.5 kB)\n",
            "Requirement already satisfied: setuptools>=0.7.0 in /usr/local/lib/python3.11/dist-packages (from glove-py) (75.2.0)\n",
            "Requirement already satisfied: numpy in /usr/local/lib/python3.11/dist-packages (from glove-py) (1.23.5)\n",
            "Using cached pybind11-2.13.6-py3-none-any.whl (243 kB)\n",
            "Building wheels for collected packages: glove-py\n",
            "  Building wheel for glove-py (setup.py) ... \u001b[?25l\u001b[?25hdone\n",
            "  Created wheel for glove-py: filename=glove_py-0.2.3-cp311-cp311-linux_x86_64.whl size=1108142 sha256=77aa0c0ca48c31161f0ee540523d254a3af8687c849e93564a49cc25219519a2\n",
            "  Stored in directory: /root/.cache/pip/wheels/2d/42/52/071d629c9a12f92cbd55406ac442114b0e60d467851797db9d\n",
            "Successfully built glove-py\n",
            "Installing collected packages: pybind11, glove-py\n",
            "Successfully installed glove-py-0.2.3 pybind11-2.13.6\n"
          ]
        }
      ],
      "source": [
        "!pip install numpy==1.23.5\n",
        "!pip install --upgrade gensim\n",
        "!pip install  glove-py"
      ]
    },
    {
      "cell_type": "code",
      "source": [
        "import numpy as np\n",
        "import gensim.downloader as api\n",
        "\n",
        "model = api.load(\"glove-wiki-gigaword-100\")\n",
        "model\n"
      ],
      "metadata": {
        "colab": {
          "base_uri": "https://localhost:8080/"
        },
        "id": "11mWvI1lcudB",
        "outputId": "97a2ace2-6b63-41b2-8296-3229d85dc652"
      },
      "execution_count": 1,
      "outputs": [
        {
          "output_type": "stream",
          "name": "stdout",
          "text": [
            "[==================================================] 100.0% 128.1/128.1MB downloaded\n"
          ]
        },
        {
          "output_type": "execute_result",
          "data": {
            "text/plain": [
              "<gensim.models.keyedvectors.KeyedVectors at 0x7f96bfbfca10>"
            ]
          },
          "metadata": {},
          "execution_count": 1
        }
      ]
    },
    {
      "cell_type": "markdown",
      "source": [
        "#CBOW"
      ],
      "metadata": {
        "id": "PYlV3seSvxzx"
      }
    },
    {
      "cell_type": "code",
      "source": [
        "import nltk\n",
        "from nltk.tokenize import word_tokenize\n",
        "\n",
        "nltk.download('punkt_tab')\n",
        "\n",
        "text = \"The cat sat on the mat.\"\n",
        "tokens = word_tokenize(text)\n",
        "tokens"
      ],
      "metadata": {
        "colab": {
          "base_uri": "https://localhost:8080/"
        },
        "id": "ISjFA92zvaPC",
        "outputId": "c7a0408c-9cee-4c66-cd43-ccc009992cba"
      },
      "execution_count": 2,
      "outputs": [
        {
          "output_type": "stream",
          "name": "stderr",
          "text": [
            "[nltk_data] Downloading package punkt_tab to /root/nltk_data...\n",
            "[nltk_data]   Package punkt_tab is already up-to-date!\n"
          ]
        },
        {
          "output_type": "execute_result",
          "data": {
            "text/plain": [
              "['The', 'cat', 'sat', 'on', 'the', 'mat', '.']"
            ]
          },
          "metadata": {},
          "execution_count": 2
        }
      ]
    },
    {
      "cell_type": "code",
      "source": [
        "def cbow(context_words,model=model, topn=5):\n",
        "  \"\"\" Use pre-trained GloVe embeddings to get similar words due to CBOW approach.\"\"\"\n",
        "  valid_words = []\n",
        "  context_vector = []\n",
        "  for word in context_words:\n",
        "    if word in model:\n",
        "        valid_words.append(word)\n",
        "        context_vector.append(model[word])\n",
        "\n",
        "  if not context_vector:\n",
        "      print(\"No valid words found in the context.\")\n",
        "      return\n",
        "\n",
        "  context_vector = np.mean(context_vector, axis=0)\n",
        "  similar_words = model.similar_by_vector(context_vector, topn=topn)\n",
        "\n",
        "  return similar_words, valid_words"
      ],
      "metadata": {
        "id": "5EUOtSYXxduB"
      },
      "execution_count": 9,
      "outputs": []
    },
    {
      "cell_type": "code",
      "source": [
        "similar_words, valid_words = cbow(tokens)\n",
        "print(\"CBOW Approach:\")\n",
        "print(\"Valid Words:\", valid_words)\n",
        "print(\"Similar Words:\", similar_words)"
      ],
      "metadata": {
        "colab": {
          "base_uri": "https://localhost:8080/"
        },
        "id": "pR83AQG88dYr",
        "outputId": "11ac57b0-fad9-415a-c6d0-63961dae8384"
      },
      "execution_count": 10,
      "outputs": [
        {
          "output_type": "stream",
          "name": "stdout",
          "text": [
            "CBOW Approach:\n",
            "Valid Words: ['cat', 'sat', 'on', 'the', 'mat', '.']\n",
            "Similar Words: [('on', 0.8589390516281128), ('.', 0.8399423360824585), ('the', 0.8385108709335327), ('when', 0.8308057188987732), ('one', 0.8302105665206909)]\n"
          ]
        }
      ]
    },
    {
      "cell_type": "markdown",
      "source": [
        "# SkipGram"
      ],
      "metadata": {
        "id": "5Zj-BxRRxZjF"
      }
    },
    {
      "cell_type": "code",
      "source": [
        "def skipgram(target_word, model =model, topn=5):\n",
        "  \"\"\" Use pre-trained GloVe embeddings to get similar words for each token in a sentence.\"\"\"\n",
        "  if target_word not in model:\n",
        "    print(f\"Word '{target_word}' not found in the model.\")\n",
        "    return\n",
        "\n",
        "  similar_words = model.similar_by_word(target_word, topn=topn)\n",
        "\n",
        "  return similar_words"
      ],
      "metadata": {
        "id": "Lvp4WqPadfvw"
      },
      "execution_count": 11,
      "outputs": []
    },
    {
      "cell_type": "code",
      "source": [
        "similar_words = skipgram(\"cat\")\n",
        "print(\"SkipGram Approach:\")\n",
        "print(\"Similar Words:\", similar_words)"
      ],
      "metadata": {
        "id": "8bqOfyrm54N0",
        "colab": {
          "base_uri": "https://localhost:8080/"
        },
        "outputId": "5c45b4b6-e07b-4c5d-95b5-6a781a2b7311"
      },
      "execution_count": 12,
      "outputs": [
        {
          "output_type": "stream",
          "name": "stdout",
          "text": [
            "SkipGram Approach:\n",
            "Similar Words: [('dog', 0.8798074722290039), ('rabbit', 0.7424427270889282), ('cats', 0.732300341129303), ('monkey', 0.7288709878921509), ('pet', 0.719014048576355)]\n"
          ]
        }
      ]
    }
  ]
}