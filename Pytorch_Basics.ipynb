{
  "nbformat": 4,
  "nbformat_minor": 0,
  "metadata": {
    "colab": {
      "provenance": [],
      "authorship_tag": "ABX9TyNUC3W8t3Y3+qWuTyjOpH+L",
      "include_colab_link": true
    },
    "kernelspec": {
      "name": "python3",
      "display_name": "Python 3"
    },
    "language_info": {
      "name": "python"
    }
  },
  "cells": [
    {
      "cell_type": "markdown",
      "metadata": {
        "id": "view-in-github",
        "colab_type": "text"
      },
      "source": [
        "<a href=\"https://colab.research.google.com/github/AIInspire/NLP/blob/main/Pytorch_Basics.ipynb\" target=\"_parent\"><img src=\"https://colab.research.google.com/assets/colab-badge.svg\" alt=\"Open In Colab\"/></a>"
      ]
    },
    {
      "cell_type": "code",
      "execution_count": 25,
      "metadata": {
        "colab": {
          "base_uri": "https://localhost:8080/",
          "height": 36
        },
        "id": "T2yBMHK97tND",
        "outputId": "ff950948-d4ea-4a60-8209-c6d0c07bd895"
      },
      "outputs": [
        {
          "output_type": "execute_result",
          "data": {
            "text/plain": [
              "'2.6.0+cu124'"
            ],
            "application/vnd.google.colaboratory.intrinsic+json": {
              "type": "string"
            }
          },
          "metadata": {},
          "execution_count": 25
        }
      ],
      "source": [
        "import torch\n",
        "from torch import nn\n",
        "import matplotlib.pyplot as plt\n",
        "\n",
        "torch.__version__"
      ]
    },
    {
      "cell_type": "code",
      "source": [
        "# Build some data using linear regression simple equation\n",
        "# y = weight * X + Bias\n",
        "\n",
        "weight = 0.7\n",
        "Bias = 0.3\n",
        "\n",
        "X = torch.arange(0, 1, 0.02)\n",
        "y = weight * X + Bias\n",
        "\n",
        "X.shape, y.shape"
      ],
      "metadata": {
        "id": "UBoxiDwu89Rc",
        "colab": {
          "base_uri": "https://localhost:8080/"
        },
        "outputId": "6a53bfe6-5355-45bc-dcde-993a37b9f165"
      },
      "execution_count": 26,
      "outputs": [
        {
          "output_type": "execute_result",
          "data": {
            "text/plain": [
              "(torch.Size([50]), torch.Size([50]))"
            ]
          },
          "metadata": {},
          "execution_count": 26
        }
      ]
    },
    {
      "cell_type": "code",
      "source": [
        "X"
      ],
      "metadata": {
        "colab": {
          "base_uri": "https://localhost:8080/"
        },
        "id": "N6EEu3lV4ku3",
        "outputId": "74d3dba9-6c60-4bd8-fa63-3dee3f803314"
      },
      "execution_count": 27,
      "outputs": [
        {
          "output_type": "execute_result",
          "data": {
            "text/plain": [
              "tensor([0.0000, 0.0200, 0.0400, 0.0600, 0.0800, 0.1000, 0.1200, 0.1400, 0.1600,\n",
              "        0.1800, 0.2000, 0.2200, 0.2400, 0.2600, 0.2800, 0.3000, 0.3200, 0.3400,\n",
              "        0.3600, 0.3800, 0.4000, 0.4200, 0.4400, 0.4600, 0.4800, 0.5000, 0.5200,\n",
              "        0.5400, 0.5600, 0.5800, 0.6000, 0.6200, 0.6400, 0.6600, 0.6800, 0.7000,\n",
              "        0.7200, 0.7400, 0.7600, 0.7800, 0.8000, 0.8200, 0.8400, 0.8600, 0.8800,\n",
              "        0.9000, 0.9200, 0.9400, 0.9600, 0.9800])"
            ]
          },
          "metadata": {},
          "execution_count": 27
        }
      ]
    },
    {
      "cell_type": "code",
      "source": [
        "y"
      ],
      "metadata": {
        "colab": {
          "base_uri": "https://localhost:8080/"
        },
        "id": "0c8UxZgH4-5M",
        "outputId": "04e76432-bb90-4442-acf2-8146a4f1018d"
      },
      "execution_count": 28,
      "outputs": [
        {
          "output_type": "execute_result",
          "data": {
            "text/plain": [
              "tensor([0.3000, 0.3140, 0.3280, 0.3420, 0.3560, 0.3700, 0.3840, 0.3980, 0.4120,\n",
              "        0.4260, 0.4400, 0.4540, 0.4680, 0.4820, 0.4960, 0.5100, 0.5240, 0.5380,\n",
              "        0.5520, 0.5660, 0.5800, 0.5940, 0.6080, 0.6220, 0.6360, 0.6500, 0.6640,\n",
              "        0.6780, 0.6920, 0.7060, 0.7200, 0.7340, 0.7480, 0.7620, 0.7760, 0.7900,\n",
              "        0.8040, 0.8180, 0.8320, 0.8460, 0.8600, 0.8740, 0.8880, 0.9020, 0.9160,\n",
              "        0.9300, 0.9440, 0.9580, 0.9720, 0.9860])"
            ]
          },
          "metadata": {},
          "execution_count": 28
        }
      ]
    },
    {
      "cell_type": "code",
      "source": [
        "#Split the dat into training and testing (80% training - 20% testing)\n",
        "train_split = int(0.8 * len(X))\n",
        "\n",
        "x_train, x_test = X[:train_split], X[train_split:]\n",
        "y_train, y_test = y[:train_split], y[train_split:]\n",
        "\n",
        "len(x_train), len(y_train), len(x_test), len(y_test)"
      ],
      "metadata": {
        "colab": {
          "base_uri": "https://localhost:8080/"
        },
        "id": "BWnwEco25v4x",
        "outputId": "a1cf7538-8fcc-4efa-ecc8-addf46e14e43"
      },
      "execution_count": 29,
      "outputs": [
        {
          "output_type": "execute_result",
          "data": {
            "text/plain": [
              "(40, 40, 10, 10)"
            ]
          },
          "metadata": {},
          "execution_count": 29
        }
      ]
    },
    {
      "cell_type": "code",
      "source": [
        "def plot_predictions(train_data=x_train,\n",
        "                      train_labels=y_train,\n",
        "                      test_data=x_test,\n",
        "                      test_labels=y_test,\n",
        "                      predictions=None):\n",
        "  ''' Plot training data, test data and compare predictions'''\n",
        "  plt.figure(figsize=(10, 7))\n",
        "  # Plot the training data\n",
        "  plt.scatter(train_data, train_labels, c=\"b\", s=4, label=\"Training Data\")\n",
        "  # Plot the testing data\n",
        "  plt.scatter(test_data, test_labels, c=\"g\", s=4, label=\"Testing Data\")\n",
        "\n",
        "  # if i have a prediction\n",
        "  if predictions is not None:\n",
        "    plt.scatter(test_data, predictions, c=\"r\", s=4, label=\"Predictions\")\n",
        "\n",
        "  # Show the legend\n",
        "  plt.legend(prop={\"size\": 14})"
      ],
      "metadata": {
        "id": "MWdfmzwS6yIO"
      },
      "execution_count": 30,
      "outputs": []
    },
    {
      "cell_type": "code",
      "source": [
        "plot_predictions()"
      ],
      "metadata": {
        "colab": {
          "base_uri": "https://localhost:8080/",
          "height": 471
        },
        "id": "G2rRwMEP6yry",
        "outputId": "5e375230-0fab-4f74-dc96-73762006cb55"
      },
      "execution_count": 31,
      "outputs": [
        {
          "output_type": "display_data",
          "data": {
            "text/plain": [
              "<Figure size 1000x700 with 1 Axes>"
            ],
            "image/png": "[encoded data removed]"
          },
          "metadata": {}
        }
      ]
    },
    {
      "cell_type": "markdown",
      "source": [
        "# Building Pytorch module"
      ],
      "metadata": {
        "id": "NvFJxQ1i6986"
      }
    },
    {
      "cell_type": "code",
      "source": [
        "# BUiltnueral Network\n",
        "# nn.Module --> A more General way\n",
        "class LinearRegressionModelV1(nn.Module):\n",
        "  def __init__(self):\n",
        "    super().__init__()\n",
        "\n",
        "    # set the model parameters\n",
        "    self.weights = nn.Parameter(torch.randn(1,\n",
        "                                             requires_grad=True,\n",
        "                                             dtype=torch.float))\n",
        "    self.bias = nn.Parameter(torch.randn(1,\n",
        "                                         requires_grad=True,\n",
        "                                         dtype=torch.float))\n",
        "\n",
        "  # Make my input go through the layers(Building box)\n",
        "  def forward(self, x: torch.Tensor) -> torch.Tensor:\n",
        "    return self.weights * x + self.bias"
      ],
      "metadata": {
        "id": "Tlyl5UpzqmSg"
      },
      "execution_count": null,
      "outputs": []
    },
    {
      "cell_type": "code",
      "source": [
        "# check the content of the model\n",
        "torch.manual_seed(42)\n",
        "# Create an instance of the model\n",
        "model_0 = LinearRegressionModelV1()"
      ],
      "metadata": {
        "id": "E_Nz7Sy1-Pi8"
      },
      "execution_count": 34,
      "outputs": []
    },
    {
      "cell_type": "code",
      "source": [
        "list(model_0.parameters())"
      ],
      "metadata": {
        "colab": {
          "base_uri": "https://localhost:8080/"
        },
        "id": "x9Aleyqm-gk_",
        "outputId": "6487df88-d15a-4119-c63a-e4a18b248dc4"
      },
      "execution_count": 35,
      "outputs": [
        {
          "output_type": "execute_result",
          "data": {
            "text/plain": [
              "[Parameter containing:\n",
              " tensor([0.3367], requires_grad=True),\n",
              " Parameter containing:\n",
              " tensor([0.1288], requires_grad=True)]"
            ]
          },
          "metadata": {},
          "execution_count": 35
        }
      ]
    },
    {
      "cell_type": "markdown",
      "source": [
        "Pytorch have 3 modes:\n",
        "\n",
        "1. training_mode : update params and y_predic get updated\n",
        "2. Inference : better performance than no_grad\n",
        "3. no_grade"
      ],
      "metadata": {
        "id": "bcmqnuz-NBOp"
      }
    },
    {
      "cell_type": "code",
      "source": [
        "# How to make a pediction using this model\n",
        "with torch.inference_mode():\n",
        "  y_preds = model_0(x_test) # Will go through our forword fun"
      ],
      "metadata": {
        "id": "NzpP1M4p-hqh"
      },
      "execution_count": 36,
      "outputs": []
    },
    {
      "cell_type": "code",
      "source": [
        "print(len(x_test), len(y_preds))"
      ],
      "metadata": {
        "colab": {
          "base_uri": "https://localhost:8080/"
        },
        "id": "V9B4AQSJOX8Q",
        "outputId": "8a0a8981-16c2-4587-8b55-9ae9de68bc60"
      },
      "execution_count": 37,
      "outputs": [
        {
          "output_type": "stream",
          "name": "stdout",
          "text": [
            "10 10\n"
          ]
        }
      ]
    },
    {
      "cell_type": "code",
      "source": [
        "plot_predictions(predictions=y_preds)"
      ],
      "metadata": {
        "colab": {
          "base_uri": "https://localhost:8080/",
          "height": 471
        },
        "id": "8cmfosYqUOyV",
        "outputId": "4bc58463-e06d-44af-f7c4-1f1c762f8a7c"
      },
      "execution_count": 40,
      "outputs": [
        {
          "output_type": "display_data",
          "data": {
            "text/plain": [
              "<Figure size 1000x700 with 1 Axes>"
            ],
            "image/png": "[encoded data removed]"
          },
          "metadata": {}
        }
      ]
    },
    {
      "cell_type": "markdown",
      "source": [
        "- Bad predictions --> we will need to set a loss fun"
      ],
      "metadata": {
        "id": "3x5a4mpImRHk"
      }
    },
    {
      "cell_type": "code",
      "source": [
        "# loss function\n",
        "loss_fn = nn.L1Loss() # MAE loss function for our model"
      ],
      "metadata": {
        "id": "YsyqeKMSl632"
      },
      "execution_count": 41,
      "outputs": []
    },
    {
      "cell_type": "code",
      "source": [
        "# Set optimizer to update the model weights\n",
        "#lr: The step I take towards the right solution\n",
        "optimizer = torch.optim.SGD(params=model_0.parameters(),\n",
        "                            lr=0.01)"
      ],
      "metadata": {
        "id": "ejBB7XKSm1yj"
      },
      "execution_count": 42,
      "outputs": []
    },
    {
      "cell_type": "markdown",
      "source": [
        "**Pytorch Training loop and Testing loop**\n",
        "\n",
        "For the training loop, we will build the following steps:\n",
        "\n",
        "1. Forward pass\n",
        "2. Calculate the loss\n",
        "3. Zero gradients\n",
        "4. Perform Backpropagation on the loss\n",
        "5. Update the optimizer(gradient decent)"
      ],
      "metadata": {
        "id": "YCwYPFtInZnf"
      }
    },
    {
      "cell_type": "code",
      "source": [
        "torch.manual_seed(42)\n",
        "\n",
        "epochs = 100\n",
        "\n",
        "#Create lists to track results\n",
        "train_loss_values = []\n",
        "test_loss_values = []\n",
        "epoch_count = []\n",
        "\n",
        "for epoch in range(epochs):\n",
        "  #Training\n",
        "  model_0.train()\n",
        "\n",
        "  # 1. Forward Pass\n",
        "  y_pred = model_0(x_train) # --> (y_pred, y_train)\n",
        "\n",
        "  # 2. Calculate the loss\n",
        "  loss = loss_fn(y_pred, y_train)\n",
        "\n",
        "  # 3. Zero gradients\n",
        "  optimizer.zero_grad()\n",
        "\n",
        "  # 4. Perform Backpropagation on the loss\n",
        "  loss.backward()\n",
        "\n",
        "  # 5. Update the optimizer(gradient decent)\n",
        "  optimizer.step()\n",
        "\n",
        "\n",
        "  # TESTING\n",
        "\n",
        "  #Put the model in the evaluation mode\n",
        "  model_0.eval()\n",
        "\n",
        "  with torch.inference_mode():\n",
        "    # 1. Forward pass\n",
        "    test_pred = model_0(x_test)\n",
        "\n",
        "    # 2. Calculate the loss\n",
        "    test_loss = loss_fn(test_pred, y_test)\n",
        "\n",
        "    # Print what's going on\n",
        "    if epoch % 10 == 0:\n",
        "      epoch_count.append(epoch)\n",
        "      train_loss_values.append(loss.detach().numpy())\n",
        "      test_loss_values.append(test_loss.detach().numpy())\n",
        "      print(f\"Epoch: {epoch} | MAE Train Loss: {loss} | MAE Test Loss: {test_loss} \")"
      ],
      "metadata": {
        "colab": {
          "base_uri": "https://localhost:8080/"
        },
        "id": "rmmxcmx-qiRa",
        "outputId": "6cf01818-665e-4ed3-f44d-617e301c2a01"
      },
      "execution_count": 46,
      "outputs": [
        {
          "output_type": "stream",
          "name": "stdout",
          "text": [
            "Epoch: 0 | MAE Train Loss: 0.024458957836031914 | MAE Test Loss: 0.05646304413676262 \n",
            "Epoch: 10 | MAE Train Loss: 0.021020207554101944 | MAE Test Loss: 0.04819049686193466 \n",
            "Epoch: 20 | MAE Train Loss: 0.01758546568453312 | MAE Test Loss: 0.04060482233762741 \n",
            "Epoch: 30 | MAE Train Loss: 0.014155393466353416 | MAE Test Loss: 0.03233227878808975 \n",
            "Epoch: 40 | MAE Train Loss: 0.010716589167714119 | MAE Test Loss: 0.024059748277068138 \n",
            "Epoch: 50 | MAE Train Loss: 0.0072835334576666355 | MAE Test Loss: 0.016474086791276932 \n",
            "Epoch: 60 | MAE Train Loss: 0.0038517764769494534 | MAE Test Loss: 0.008201557211577892 \n",
            "Epoch: 70 | MAE Train Loss: 0.008932482451200485 | MAE Test Loss: 0.005023092031478882 \n",
            "Epoch: 80 | MAE Train Loss: 0.008932482451200485 | MAE Test Loss: 0.005023092031478882 \n",
            "Epoch: 90 | MAE Train Loss: 0.008932482451200485 | MAE Test Loss: 0.005023092031478882 \n"
          ]
        }
      ]
    },
    {
      "cell_type": "code",
      "source": [
        "# plot the loss curves\n",
        "plt.plot(epoch_count, train_loss_values, label=\"Train Loss\")\n",
        "plt.plot(epoch_count, test_loss_values, label=\"Test Loss\")\n",
        "plt.title(\"Training and Testing Loss Curves\")\n",
        "plt.ylabel(\"Loss\")\n",
        "plt.xlabel(\"Epochs\")\n",
        "plt.legend()"
      ],
      "metadata": {
        "colab": {
          "base_uri": "https://localhost:8080/",
          "height": 489
        },
        "id": "8Ark62PNqYs2",
        "outputId": "1c5e843b-0ec2-4021-f93c-90119548a357"
      },
      "execution_count": 45,
      "outputs": [
        {
          "output_type": "execute_result",
          "data": {
            "text/plain": [
              "<matplotlib.legend.Legend at 0x7d3e115c0a90>"
            ]
          },
          "metadata": {},
          "execution_count": 45
        },
        {
          "output_type": "display_data",
          "data": {
            "text/plain": [
              "<Figure size 640x480 with 1 Axes>"
            ],
            "image/png": "[encoded data removed]"
          },
          "metadata": {}
        }
      ]
    },
    {
      "cell_type": "code",
      "source": [
        "# New weight | New bias\n",
        "# -> Old Values before training\n",
        "#[Parameter containing:\n",
        "# tensor([0.3367], requires_grad=True),\n",
        "# Parameter containing:\n",
        "# tensor([0.1288], requires_grad=True)]\n",
        "\n",
        "model_0.state_dict()"
      ],
      "metadata": {
        "colab": {
          "base_uri": "https://localhost:8080/"
        },
        "id": "cxXmN3--qeHO",
        "outputId": "367729f3-7636-4ae1-fe84-f3ff3212f4e9"
      },
      "execution_count": 47,
      "outputs": [
        {
          "output_type": "execute_result",
          "data": {
            "text/plain": [
              "OrderedDict([('weights', tensor([0.6990])), ('bias', tensor([0.3093]))])"
            ]
          },
          "metadata": {},
          "execution_count": 47
        }
      ]
    },
    {
      "cell_type": "code",
      "source": [
        "model_0.eval()\n",
        "\n",
        "with torch.inference_mode():\n",
        "  y_preds = model_0(x_test)\n",
        "\n",
        "plot_predictions(predictions=y_preds)"
      ],
      "metadata": {
        "colab": {
          "base_uri": "https://localhost:8080/",
          "height": 471
        },
        "id": "Cc7ol6Hk1U3Y",
        "outputId": "e0486303-02d1-4afd-cfc3-6473109a5927"
      },
      "execution_count": 49,
      "outputs": [
        {
          "output_type": "display_data",
          "data": {
            "text/plain": [
              "<Figure size 1000x700 with 1 Axes>"
            ],
            "image/png": "[encoded data removed]"
          },
          "metadata": {}
        }
      ]
    },
    {
      "cell_type": "code",
      "source": [
        "# pytorch model extensions -> pt / pth\n",
        "#Not the optimal way to save a model\n",
        "torch.save(model_0, 'model_0.pt')"
      ],
      "metadata": {
        "id": "_oaomJi51v1m"
      },
      "execution_count": 51,
      "outputs": []
    },
    {
      "cell_type": "code",
      "source": [
        "# The optimal way to save a model\n",
        "from pathlib import Path\n",
        "\n",
        "Model_path = Path('models')\n",
        "Model_path.mkdir(parents=True, exist_ok=True)\n",
        "\n",
        "# Create a model save path\n",
        "MODEL_NAME = \"01_pytorch_workflow_model.pth\"\n",
        "MODEL_SAVE_PATH = Model_path / MODEL_NAME\n",
        "\n",
        "# Save the model state dict\n",
        "torch.save(model_0.state_dict(),MODEL_SAVE_PATH)\n",
        "print(f\"Saving model to: {MODEL_SAVE_PATH}\")\n"
      ],
      "metadata": {
        "colab": {
          "base_uri": "https://localhost:8080/"
        },
        "id": "rQrrXgr12oJk",
        "outputId": "bce94fc7-5c4d-42ca-a1f9-294d5d85673a"
      },
      "execution_count": 52,
      "outputs": [
        {
          "output_type": "stream",
          "name": "stdout",
          "text": [
            "Saving model to: models/01_pytorch_workflow_model.pth\n"
          ]
        }
      ]
    },
    {
      "cell_type": "markdown",
      "source": [
        "# Try 2 Layers"
      ],
      "metadata": {
        "id": "16EjTUrl3PaO"
      }
    },
    {
      "cell_type": "code",
      "source": [
        "class LinearRegressionModelV2(nn.Module):\n",
        "  def __init__(self):\n",
        "    super().__init__()\n",
        "    self.layer1 = nn.Linear(in_features=1,\n",
        "                            out_features=5)\n",
        "    self.act1 = nn.ReLU()\n",
        "    self.layer2 = nn.Linear(in_features=5,\n",
        "                            out_features=2)\n",
        "\n",
        "  def forward(self, x: torch.Tensor) -> torch.Tensor:\n",
        "    out = self.layer1(x)\n",
        "    out = self.act1(out)\n",
        "    out = self.layer2(out)\n",
        "    return out"
      ],
      "metadata": {
        "id": "nAJ3qN_P25xJ"
      },
      "execution_count": 54,
      "outputs": []
    },
    {
      "cell_type": "code",
      "source": [
        "#Check the content of this model\n",
        "torch.manual_seed(42)\n",
        "model_1 = LinearRegressionModelV2()\n",
        "list(model_1.parameters())"
      ],
      "metadata": {
        "colab": {
          "base_uri": "https://localhost:8080/"
        },
        "id": "1vJDF3T03_vY",
        "outputId": "26c0a51f-2d3e-436b-db4b-8676057b5e27"
      },
      "execution_count": 55,
      "outputs": [
        {
          "output_type": "execute_result",
          "data": {
            "text/plain": [
              "[Parameter containing:\n",
              " tensor([[ 0.7645],\n",
              "         [ 0.8300],\n",
              "         [-0.2343],\n",
              "         [ 0.9186],\n",
              "         [-0.2191]], requires_grad=True),\n",
              " Parameter containing:\n",
              " tensor([ 0.2018, -0.4869,  0.5873,  0.8815, -0.7336], requires_grad=True),\n",
              " Parameter containing:\n",
              " tensor([[ 0.3887,  0.0837,  0.3304,  0.0606,  0.2156],\n",
              "         [-0.0631,  0.3448,  0.0661, -0.2088,  0.1140]], requires_grad=True),\n",
              " Parameter containing:\n",
              " tensor([-0.2060, -0.0524], requires_grad=True)]"
            ]
          },
          "metadata": {},
          "execution_count": 55
        }
      ]
    }
  ]
}